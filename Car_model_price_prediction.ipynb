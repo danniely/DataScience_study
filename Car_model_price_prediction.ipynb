{
 "cells": [
  {
   "cell_type": "code",
   "execution_count": 1,
   "metadata": {},
   "outputs": [],
   "source": [
    "import math\n",
    "from collections import Counter\n",
    "from matplotlib import pyplot as plt\n",
    "import random\n",
    "import pandas as pd\n",
    "import os\n",
    "import sys\n",
    "import csv\n",
    "import dateutil.parser\n",
    "from packages.Statistics import correlation\n",
    "from collections import Counter\n",
    "import numpy as np\n",
    "from collections import Counter, defaultdict\n",
    "from sklearn import linear_model"
   ]
  },
  {
   "cell_type": "code",
   "execution_count": 2,
   "metadata": {},
   "outputs": [],
   "source": [
    "data = []\n",
    "data = pd.read_csv(\"datasets/Car_model_price_modified.csv\")"
   ]
  },
  {
   "cell_type": "code",
   "execution_count": 3,
   "metadata": {
    "scrolled": true
   },
   "outputs": [],
   "source": [
    "data['Price Drop'] = ''\n",
    "data = data.drop(columns = ['City','State','Vin','Unnamed: 0'])"
   ]
  },
  {
   "cell_type": "code",
   "execution_count": 4,
   "metadata": {},
   "outputs": [],
   "source": [
    "data[data == np.inf] = np.nan\n",
    "data['New Car Price'] = data['New Car Price'].replace(0, np.nan)\n",
    "data.dropna()\n",
    "\n",
    "\n",
    "for i in range(len(data)):\n",
    "    data.loc[i,'Price Drop'] = data['New Car Price'][i]-data['Price'][i]\n",
    "\n",
    "  \n",
    "data['Price Drop'] = data['Price Drop'].replace(0, np.nan)\n",
    "data['Price Drop'] = data['Price Drop'].replace(np.inf, np.nan)\n",
    "data['Price Drop'] = data['Price Drop'].replace('nan', np.nan)\n",
    "data.dropna(how = 'any', inplace = True)\n",
    "data.index = range(len(data))"
   ]
  },
  {
   "cell_type": "code",
   "execution_count": 5,
   "metadata": {},
   "outputs": [
    {
     "data": {
      "text/html": [
       "<div>\n",
       "<style scoped>\n",
       "    .dataframe tbody tr th:only-of-type {\n",
       "        vertical-align: middle;\n",
       "    }\n",
       "\n",
       "    .dataframe tbody tr th {\n",
       "        vertical-align: top;\n",
       "    }\n",
       "\n",
       "    .dataframe thead th {\n",
       "        text-align: right;\n",
       "    }\n",
       "</style>\n",
       "<table border=\"1\" class=\"dataframe\">\n",
       "  <thead>\n",
       "    <tr style=\"text-align: right;\">\n",
       "      <th></th>\n",
       "      <th>Price</th>\n",
       "      <th>Year</th>\n",
       "      <th>Mileage</th>\n",
       "      <th>Make</th>\n",
       "      <th>Model</th>\n",
       "      <th>General Model</th>\n",
       "      <th>New Car Price</th>\n",
       "      <th>Price Drop</th>\n",
       "    </tr>\n",
       "  </thead>\n",
       "  <tbody>\n",
       "    <tr>\n",
       "      <th>0</th>\n",
       "      <td>21747</td>\n",
       "      <td>2016</td>\n",
       "      <td>20038</td>\n",
       "      <td>Acura</td>\n",
       "      <td>ILXAutomatic</td>\n",
       "      <td>ILX</td>\n",
       "      <td>25900.0</td>\n",
       "      <td>4153.0</td>\n",
       "    </tr>\n",
       "    <tr>\n",
       "      <th>1</th>\n",
       "      <td>13995</td>\n",
       "      <td>2014</td>\n",
       "      <td>67261</td>\n",
       "      <td>Acura</td>\n",
       "      <td>ILX5-Speed</td>\n",
       "      <td>ILX</td>\n",
       "      <td>25900.0</td>\n",
       "      <td>11905.0</td>\n",
       "    </tr>\n",
       "    <tr>\n",
       "      <th>2</th>\n",
       "      <td>14999</td>\n",
       "      <td>2015</td>\n",
       "      <td>42989</td>\n",
       "      <td>Acura</td>\n",
       "      <td>ILX5-Speed</td>\n",
       "      <td>ILX</td>\n",
       "      <td>25900.0</td>\n",
       "      <td>10901.0</td>\n",
       "    </tr>\n",
       "    <tr>\n",
       "      <th>3</th>\n",
       "      <td>19000</td>\n",
       "      <td>2015</td>\n",
       "      <td>23779</td>\n",
       "      <td>Acura</td>\n",
       "      <td>ILX5-Speed</td>\n",
       "      <td>ILX</td>\n",
       "      <td>25900.0</td>\n",
       "      <td>6900.0</td>\n",
       "    </tr>\n",
       "    <tr>\n",
       "      <th>4</th>\n",
       "      <td>21997</td>\n",
       "      <td>2016</td>\n",
       "      <td>21206</td>\n",
       "      <td>Acura</td>\n",
       "      <td>ILXAutomatic</td>\n",
       "      <td>ILX</td>\n",
       "      <td>25900.0</td>\n",
       "      <td>3903.0</td>\n",
       "    </tr>\n",
       "  </tbody>\n",
       "</table>\n",
       "</div>"
      ],
      "text/plain": [
       "   Price  Year  Mileage   Make         Model General Model  New Car Price  \\\n",
       "0  21747  2016    20038  Acura  ILXAutomatic           ILX        25900.0   \n",
       "1  13995  2014    67261  Acura    ILX5-Speed           ILX        25900.0   \n",
       "2  14999  2015    42989  Acura    ILX5-Speed           ILX        25900.0   \n",
       "3  19000  2015    23779  Acura    ILX5-Speed           ILX        25900.0   \n",
       "4  21997  2016    21206  Acura  ILXAutomatic           ILX        25900.0   \n",
       "\n",
       "   Price Drop  \n",
       "0      4153.0  \n",
       "1     11905.0  \n",
       "2     10901.0  \n",
       "3      6900.0  \n",
       "4      3903.0  "
      ]
     },
     "execution_count": 5,
     "metadata": {},
     "output_type": "execute_result"
    }
   ],
   "source": [
    "data.head()"
   ]
  },
  {
   "cell_type": "code",
   "execution_count": 6,
   "metadata": {},
   "outputs": [],
   "source": [
    "reg = linear_model.LinearRegression()"
   ]
  },
  {
   "cell_type": "code",
   "execution_count": 7,
   "metadata": {},
   "outputs": [],
   "source": [
    "r = 0\n",
    "coefficient_list = defaultdict(list)\n",
    "for i in range(len(data)-1):\n",
    "    \n",
    "    if data['General Model'][i] != data['General Model'][i+1] or i == len(data)-2:\n",
    "        \n",
    "        reg.fit(data[r:i][['Mileage','Year']],data[r:i]['Price Drop'])\n",
    "        coefficient_list[data['Make'][i]].append([data['General Model'][i],reg.coef_,reg.intercept_,data['New Car Price'][i]])\n",
    "        r = i+1"
   ]
  },
  {
   "cell_type": "code",
   "execution_count": 8,
   "metadata": {},
   "outputs": [],
   "source": [
    "car_brand_list = []\n",
    "for i,j in list(enumerate(Counter(data['Make']),1)):\n",
    "    car_brand_list.append(j)"
   ]
  },
  {
   "cell_type": "code",
   "execution_count": 9,
   "metadata": {},
   "outputs": [
    {
     "name": "stdout",
     "output_type": "stream",
     "text": [
      "0.09662940586437639\n"
     ]
    }
   ],
   "source": [
    "k = coefficient_list['Acura'][0][1][0]* 2\n",
    "print(k)"
   ]
  },
  {
   "cell_type": "code",
   "execution_count": 10,
   "metadata": {},
   "outputs": [],
   "source": [
    "def price_prediction(make,model,mileage,year):\n",
    "    for i in range(len(coefficient_list[make])):\n",
    "        if coefficient_list[make][i][0] == model:\n",
    "            predicted_drop = coefficient_list[make][i][1][0]*mileage + coefficient_list[make][i][1][1]*year + coefficient_list[make][i][2]\n",
    "            predicted_price = round(coefficient_list[make][i][3] - predicted_drop)\n",
    "            print(f\"{model} from {make} will approximately cost ${predicted_price}\")\n",
    "            break\n",
    "        else:\n",
    "            print('No such model has been found')"
   ]
  },
  {
   "cell_type": "code",
   "execution_count": 11,
   "metadata": {},
   "outputs": [
    {
     "name": "stdout",
     "output_type": "stream",
     "text": [
      "ILX from Acura will approximately cost $21290.0\n"
     ]
    }
   ],
   "source": [
    "price_prediction('Acura','ILX',20038,2016)"
   ]
  }
 ],
 "metadata": {
  "kernelspec": {
   "display_name": "Python 3",
   "language": "python",
   "name": "python3"
  },
  "language_info": {
   "codemirror_mode": {
    "name": "ipython",
    "version": 3
   },
   "file_extension": ".py",
   "mimetype": "text/x-python",
   "name": "python",
   "nbconvert_exporter": "python",
   "pygments_lexer": "ipython3",
   "version": "3.6.4"
  }
 },
 "nbformat": 4,
 "nbformat_minor": 2
}
