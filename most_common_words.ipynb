{
 "cells": [
  {
   "cell_type": "code",
   "execution_count": 1,
   "metadata": {},
   "outputs": [],
   "source": [
    "from bs4 import BeautifulSoup\n",
    "import requests"
   ]
  },
  {
   "cell_type": "code",
   "execution_count": 2,
   "metadata": {},
   "outputs": [],
   "source": [
    "html = requests.get('http://www.example.com').text\n",
    "soup = BeautifulSoup(html,'html5lib')"
   ]
  },
  {
   "cell_type": "code",
   "execution_count": 3,
   "metadata": {},
   "outputs": [],
   "source": [
    "import sys\n",
    "from collections import Counter"
   ]
  },
  {
   "cell_type": "code",
   "execution_count": 4,
   "metadata": {
    "scrolled": true
   },
   "outputs": [],
   "source": [
    "def get_domain(email_address):\n",
    "    return email_address.lower().split('@')[1]"
   ]
  },
  {
   "cell_type": "code",
   "execution_count": null,
   "metadata": {},
   "outputs": [],
   "source": []
  },
  {
   "cell_type": "code",
   "execution_count": null,
   "metadata": {},
   "outputs": [],
   "source": [
    "first_paragraph = soup.find('p')"
   ]
  },
  {
   "cell_type": "code",
   "execution_count": null,
   "metadata": {},
   "outputs": [],
   "source": [
    "first_paragraph_text = soup.p.text\n",
    "first_paragraph_sentences = soup.p.text.split('.' and '\\n')\n",
    "first_paragraph_sentences"
   ]
  },
  {
   "cell_type": "code",
   "execution_count": null,
   "metadata": {},
   "outputs": [],
   "source": [
    "url = 'http://shop.oreilly.com/category/browse-subjects/data.do?sortby=publicationDate&page=1'\n",
    "soup = BeautifulSoup(requests.get(url).text, 'html5lib')"
   ]
  },
  {
   "cell_type": "code",
   "execution_count": null,
   "metadata": {},
   "outputs": [],
   "source": [
    "from twython import Twython"
   ]
  },
  {
   "cell_type": "code",
   "execution_count": 10,
   "metadata": {},
   "outputs": [],
   "source": [
    "CONSUMER_KEY = 'nHmxXWHNdl7HQqoxBsos3WU5D'\n",
    "CONSUMER_SECRET = 'VqXzXU6BqR1HKNHjPq9VAvoex7qI1xuJHyh3uVNJFwZiy9wVSY'\n",
    "ACCESS_TOKEN = '1084990784162521088-VQiEswpxWclrwD22kZo3q7nKRV2O2J'\n",
    "ACCESS_TOKEN_SECRET = '5sydqd69fQWwqGOMHvlGhmI3QLCK7pZRMjYaVJL2wrSdX'"
   ]
  },
  {
   "cell_type": "code",
   "execution_count": 11,
   "metadata": {},
   "outputs": [],
   "source": [
    "twitter = Twython(CONSUMER_KEY, CONSUMER_SECRET)"
   ]
  },
  {
   "cell_type": "code",
   "execution_count": 12,
   "metadata": {},
   "outputs": [
    {
     "name": "stdout",
     "output_type": "stream",
     "text": [
      "joebabe1 : RT @MomentsWithBren: arise: 2019 Data Science Internship\n",
      "\n",
      "Start your data science career with Paylater! The arise program provides an excel…\n",
      "APrettyLeaf : RT @MaryAliceCam: Next month I'll be applying for industry data science jobs, because I can't afford rent as a climate scientist. So yeah a…\n",
      "LatLongLiz : RT @WeAreRLadies: Since I'm a complete pack rat, I'll now share with you a bunch of great, free online books to help learn #rstats.  \n",
      "1) Th…\n",
      "Kijana_Mkenya : RT @moringaschool: We are now in an era of digital transformation. With advances in data science and analytics all businesses will soon be…\n",
      "ScienceNelson : RT @MaryAliceCam: Next month I'll be applying for industry data science jobs, because I can't afford rent as a climate scientist. So yeah a…\n",
      "HardinsGhost : RT @MaryAliceCam: Next month I'll be applying for industry data science jobs, because I can't afford rent as a climate scientist. So yeah a…\n",
      "RealMGHarris : RT @MaryAliceCam: Next month I'll be applying for industry data science jobs, because I can't afford rent as a climate scientist. So yeah a…\n",
      "jurpelai : RT @MaryAliceCam: Next month I'll be applying for industry data science jobs, because I can't afford rent as a climate scientist. So yeah a…\n",
      "ayush_kuma_ : RT @philogb: Learn more about our Machine Learning Visualization tool Manifold and how it's used by Data Science at @Uber : https://t.co/M1…\n",
      "GreenPuertoRico : RT @MaryAliceCam: Next month I'll be applying for industry data science jobs, because I can't afford rent as a climate scientist. So yeah a…\n",
      "clydeleesmith : RT @MaryAliceCam: Next month I'll be applying for industry data science jobs, because I can't afford rent as a climate scientist. So yeah a…\n",
      "finkelbuster : RT @MaryAliceCam: Next month I'll be applying for industry data science jobs, because I can't afford rent as a climate scientist. So yeah a…\n",
      "DrDataScientist : The Mathematics of Data Science: Understanding the foundations of Deep Learning through Linear Regression:   Note:… https://t.co/uGt1N81PL3\n",
      "pulsortech93 : RT @MaryAliceCam: Next month I'll be applying for industry data science jobs, because I can't afford rent as a climate scientist. So yeah a…\n",
      "MiguelSieck : RT @WeAreRLadies: Since I'm a complete pack rat, I'll now share with you a bunch of great, free online books to help learn #rstats.  \n",
      "1) Th…\n"
     ]
    }
   ],
   "source": [
    "for status in twitter.search(q='\"data science\"')['statuses']:\n",
    "    user = status['user']['screen_name']\n",
    "    text = status['text']\n",
    "    print (user, ':', text)"
   ]
  },
  {
   "cell_type": "code",
   "execution_count": 13,
   "metadata": {},
   "outputs": [],
   "source": [
    "from twython import TwythonStreamer"
   ]
  },
  {
   "cell_type": "code",
   "execution_count": 14,
   "metadata": {},
   "outputs": [],
   "source": [
    "tweets = []"
   ]
  },
  {
   "cell_type": "code",
   "execution_count": 15,
   "metadata": {},
   "outputs": [],
   "source": [
    "class MyStreamer(TwythonStreamer):\n",
    "    def on_success(self, data):\n",
    "        if data['lang'] == 'en':\n",
    "            tweets.append(data)\n",
    "            print ('received tweet #', len(tweets))\n",
    "            \n",
    "        if len(tweets) >= 100:\n",
    "            self.disconnect()\n",
    "        \n",
    "    def on_error(self, status_code, data):\n",
    "        print (status_code, data)\n",
    "        self.disconnect()"
   ]
  },
  {
   "cell_type": "code",
   "execution_count": 16,
   "metadata": {},
   "outputs": [],
   "source": [
    "stream = MyStreamer(CONSUMER_KEY, CONSUMER_SECRET, ACCESS_TOKEN, ACCESS_TOKEN_SECRET)"
   ]
  },
  {
   "cell_type": "code",
   "execution_count": 21,
   "metadata": {},
   "outputs": [
    {
     "name": "stdout",
     "output_type": "stream",
     "text": [
      "received tweet # 102\n"
     ]
    }
   ],
   "source": [
    "stream.statuses.filter(track='data')"
   ]
  },
  {
   "cell_type": "code",
   "execution_count": 22,
   "metadata": {},
   "outputs": [
    {
     "name": "stdout",
     "output_type": "stream",
     "text": [
      "[('data', 3), ('tech', 2), ('digital', 2), ('dataprotection', 1), ('cybersecurity', 1)]\n"
     ]
    }
   ],
   "source": [
    "top_hashtags = Counter(hashtag['text'].lower()\n",
    "                      for tweet in tweets\n",
    "                      for hashtag in tweet['entities']['hashtags'])\n",
    "print (top_hashtags.most_common(5))"
   ]
  },
  {
   "cell_type": "code",
   "execution_count": null,
   "metadata": {},
   "outputs": [],
   "source": []
  }
 ],
 "metadata": {
  "kernelspec": {
   "display_name": "Python 3",
   "language": "python",
   "name": "python3"
  },
  "language_info": {
   "codemirror_mode": {
    "name": "ipython",
    "version": 3
   },
   "file_extension": ".py",
   "mimetype": "text/x-python",
   "name": "python",
   "nbconvert_exporter": "python",
   "pygments_lexer": "ipython3",
   "version": "3.7.1"
  }
 },
 "nbformat": 4,
 "nbformat_minor": 2
}
