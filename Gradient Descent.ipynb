{
 "cells": [
  {
   "cell_type": "code",
   "execution_count": 1,
   "metadata": {},
   "outputs": [],
   "source": [
    "from matplotlib import pyplot as plt\n",
    "from functools import partial\n",
    "import random\n",
    "import math\n",
    "\n",
    "def difference_quotient(f,x,h):\n",
    "    return (f(x+h)-f(x)) / h\n",
    "\n",
    "def square(x):\n",
    "    return x*x\n",
    "\n",
    "def derivative(x):\n",
    "    return 2*x\n",
    "\n",
    "def distance(x,y):\n",
    "    return math.sqrt(x**2 + y**2)"
   ]
  },
  {
   "cell_type": "code",
   "execution_count": 2,
   "metadata": {},
   "outputs": [
    {
     "data": {
      "text/plain": [
       "[<matplotlib.lines.Line2D at 0x1bccd783470>]"
      ]
     },
     "execution_count": 2,
     "metadata": {},
     "output_type": "execute_result"
    },
    {
     "data": {
      "image/png": "[encoded data removed]",
      "text/plain": [
       "<Figure size 432x288 with 1 Axes>"
      ]
     },
     "metadata": {
      "needs_background": "light"
     },
     "output_type": "display_data"
    }
   ],
   "source": [
    "derivative_estimate = partial(difference_quotient, square, h=0.00001)\n",
    "x = range(0,5)\n",
    "list(map(derivative_estimate,x))\n",
    "plt.plot(x, list(map(derivative,x)), 'rx')\n",
    "plt.plot(x, list(map(derivative_estimate,x)), 'b+')"
   ]
  },
  {
   "cell_type": "code",
   "execution_count": 3,
   "metadata": {},
   "outputs": [],
   "source": [
    "def step(v, direction, step_size):\n",
    "    return [v_i + step_size * direction_i\n",
    "           for v_i, direction_i in zip(v,direction)]\n",
    "\n",
    "def sum_of_squares_gradient(v):\n",
    "    return [2*v_i\n",
    "           for v_i in v]"
   ]
  },
  {
   "cell_type": "code",
   "execution_count": 4,
   "metadata": {},
   "outputs": [],
   "source": [
    "def safe(f):\n",
    "    def safe_f(*args, **kwargs):\n",
    "        try:\n",
    "            return f(*args, **kwargs)\n",
    "        except:\n",
    "            return float('int')\n",
    "    return safe_f"
   ]
  },
  {
   "cell_type": "code",
   "execution_count": 6,
   "metadata": {},
   "outputs": [],
   "source": [
    "def minimize_batch(target_fn,gradient_fn,theta_0,tolerance=0.000001):\n",
    "    step_sizes =[100,10,1,0.1,0.01,0.001,0.0001,0.00001]\n",
    "    \n",
    "    theta = theta_0\n",
    "    target_fn = safe(target_fn)\n",
    "    value = target_fn(theta)\n",
    "    \n",
    "    while True:\n",
    "        gradient = gradient_fn(theta)\n",
    "        next_thetas = [step(theta,gradient,-step_size)\n",
    "                      for step_size in step_sizes]\n",
    "        next_theta = min(next_thetas, key=target_fn)\n",
    "        next_value = target_fn(next_theta)\n",
    "        \n",
    "        if abs(value - next_value) < tolerance:\n",
    "            return theta\n",
    "        else:\n",
    "            theta, value = next_theta, next_value"
   ]
  },
  {
   "cell_type": "code",
   "execution_count": 16,
   "metadata": {},
   "outputs": [],
   "source": [
    "def in_random_order(data):\n",
    "    indexes = [i\n",
    "              for i, _ in enumerate(data)]\n",
    "    random.shuffle(indexes)\n",
    "    \n",
    "    for i in indexes:\n",
    "        yield data[i]"
   ]
  },
  {
   "cell_type": "code",
   "execution_count": 18,
   "metadata": {},
   "outputs": [],
   "source": [
    "def minimize_stochastic(target_fn,gradient_fn,x,y,theta_0,alpha_0=0.01):\n",
    "    data = zip(x,y)\n",
    "    theta = theta_0\n",
    "    alpha = alpha_0\n",
    "    min_theta, min_value = None, float('inf')\n",
    "    iterations_with_no_improvement = 0\n",
    "    \n",
    "    while iterations_with_no_improvement < 100:\n",
    "        value = sum(target_fn(x_i,y_i,theta)\n",
    "                   for x_i,y_i in data)\n",
    "\n",
    "        if value < min_value:\n",
    "            min_value, min_theta = value, theta\n",
    "            iterations_with_no_improvement = 0\n",
    "            alpha = alpha_0\n",
    "        \n",
    "        else: \n",
    "            iterations_with_no_improvement += 1\n",
    "            alpha *= 0.9\n",
    "            \n",
    "        for x_i,y_i in in_random_order(data):\n",
    "            gradient_i = gradient_fn(x_i,y_i, theta)\n",
    "            theta = vector_subtract(theta, scalar_multiply(alpha, gradient_i))\n",
    "            \n",
    "    return min_theta"
   ]
  },
  {
   "cell_type": "code",
   "execution_count": 21,
   "metadata": {},
   "outputs": [],
   "source": [
    "def negate(f):\n",
    "    return lambda *args, **kwargs: -f(*args,**kwargs)\n",
    "\n",
    "def negate_all(f):\n",
    "    return lambda *args,**kwargs: [-y for y in f(*args,**kwargs)]"
   ]
  },
  {
   "cell_type": "code",
   "execution_count": 22,
   "metadata": {},
   "outputs": [],
   "source": [
    "def maximize_stochastic(target_fn,gradient_fn,x,y,theta_0,alpha_0=0.01):\n",
    "    return minimize_stochastic(negate(target_fn),\n",
    "                              negate_all(gradient_fn),\n",
    "                              x,y,theta_0,alpha_0)"
   ]
  },
  {
   "cell_type": "code",
   "execution_count": null,
   "metadata": {},
   "outputs": [],
   "source": []
  }
 ],
 "metadata": {
  "kernelspec": {
   "display_name": "Python 3",
   "language": "python",
   "name": "python3"
  },
  "language_info": {
   "codemirror_mode": {
    "name": "ipython",
    "version": 3
   },
   "file_extension": ".py",
   "mimetype": "text/x-python",
   "name": "python",
   "nbconvert_exporter": "python",
   "pygments_lexer": "ipython3",
   "version": "3.7.1"
  }
 },
 "nbformat": 4,
 "nbformat_minor": 2
}
