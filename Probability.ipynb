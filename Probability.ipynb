{
 "cells": [
  {
   "cell_type": "code",
   "execution_count": 2,
   "metadata": {},
   "outputs": [],
   "source": [
    "import random\n",
    "\n",
    "def random_kids():\n",
    "    return random.choice(['boy','girl'])"
   ]
  },
  {
   "cell_type": "code",
   "execution_count": 3,
   "metadata": {},
   "outputs": [],
   "source": [
    "BothGirls = 0\n",
    "older_girl = 0\n",
    "either_girl = 0"
   ]
  },
  {
   "cell_type": "code",
   "execution_count": 4,
   "metadata": {},
   "outputs": [],
   "source": [
    "random.seed(0)\n",
    "for _ in range(1000):\n",
    "    younger = random_kids()\n",
    "    older = random_kids()\n",
    "    \n",
    "    if older == 'girl': older_girl += 1 \n",
    "    if younger == 'girl' and older == 'girl': BothGirls += 1 \n",
    "    if younger == 'girl' or older == 'girl': either_girl += 1"
   ]
  },
  {
   "cell_type": "code",
   "execution_count": 5,
   "metadata": {},
   "outputs": [
    {
     "name": "stdout",
     "output_type": "stream",
     "text": [
      "P(B|G):  0.4949290060851927\n"
     ]
    }
   ],
   "source": [
    "print ('P(B|G): ', BothGirls/older_girl)"
   ]
  },
  {
   "cell_type": "code",
   "execution_count": 6,
   "metadata": {},
   "outputs": [
    {
     "name": "stdout",
     "output_type": "stream",
     "text": [
      "P(B|L):  0.32232496697490093\n"
     ]
    }
   ],
   "source": [
    "print ('P(B|L): ', BothGirls/either_girl)"
   ]
  },
  {
   "cell_type": "code",
   "execution_count": 37,
   "metadata": {},
   "outputs": [],
   "source": [
    "from collections import Counter"
   ]
  },
  {
   "cell_type": "markdown",
   "metadata": {},
   "source": [
    "## Coin flip"
   ]
  },
  {
   "cell_type": "code",
   "execution_count": 32,
   "metadata": {},
   "outputs": [],
   "source": [
    "def random_coin():\n",
    "    return random.choice(['head','tail'])"
   ]
  },
  {
   "cell_type": "code",
   "execution_count": 35,
   "metadata": {},
   "outputs": [],
   "source": [
    "def sample_coin(size):\n",
    "    return [random_coin()\n",
    "           for _ in range(size)]"
   ]
  },
  {
   "cell_type": "code",
   "execution_count": 36,
   "metadata": {},
   "outputs": [
    {
     "name": "stdout",
     "output_type": "stream",
     "text": [
      "['head', 'head', 'head', 'tail', 'head', 'head', 'tail', 'head', 'tail', 'tail']\n"
     ]
    }
   ],
   "source": [
    "print (sample_coin(10))"
   ]
  },
  {
   "cell_type": "code",
   "execution_count": 45,
   "metadata": {},
   "outputs": [],
   "source": [
    "def coin_count(size):\n",
    "    return Counter(sample_coin(size))"
   ]
  },
  {
   "cell_type": "markdown",
   "metadata": {},
   "source": [
    "# Normal distribution"
   ]
  },
  {
   "cell_type": "code",
   "execution_count": 83,
   "metadata": {},
   "outputs": [],
   "source": [
    "import math\n",
    "def normal_pdf(x,mu=0,sigma=1):\n",
    "    sqrt_2_pi = math.sqrt(2*math.pi)\n",
    "    return (math.exp(-(x-mu)**2 / 2 / sigma ** 2) / (sqrt_2_pi * sigma))"
   ]
  },
  {
   "cell_type": "code",
   "execution_count": 84,
   "metadata": {},
   "outputs": [],
   "source": [
    "xs = [x / 10.0\n",
    "     for x in range(-50,50)]"
   ]
  },
  {
   "cell_type": "code",
   "execution_count": 85,
   "metadata": {},
   "outputs": [],
   "source": [
    "from matplotlib import pyplot as plt"
   ]
  },
  {
   "cell_type": "code",
   "execution_count": 87,
   "metadata": {},
   "outputs": [
    {
     "data": {
      "text/plain": [
       "<matplotlib.legend.Legend at 0x29873c1ddd8>"
      ]
     },
     "execution_count": 87,
     "metadata": {},
     "output_type": "execute_result"
    },
    {
     "data": {
      "image/png": "[encoded data removed]",
      "text/plain": [
       "<Figure size 432x288 with 1 Axes>"
      ]
     },
     "metadata": {
      "needs_background": "light"
     },
     "output_type": "display_data"
    }
   ],
   "source": [
    "plt.plot(xs,[normal_pdf(x) for x in xs], '-', label = 'standard normal distribution')\n",
    "plt.legend()"
   ]
  },
  {
   "cell_type": "markdown",
   "metadata": {},
   "source": [
    "# Binomial distribution"
   ]
  },
  {
   "cell_type": "code",
   "execution_count": 88,
   "metadata": {},
   "outputs": [],
   "source": [
    "def success_or_fail(p):\n",
    "    return 1 if random.random() < p else 0"
   ]
  },
  {
   "cell_type": "code",
   "execution_count": 95,
   "metadata": {},
   "outputs": [],
   "source": [
    "def binomial(p,n):\n",
    "    return sum(success_or_fail(p)\n",
    "              for _ in range(n))"
   ]
  },
  {
   "cell_type": "code",
   "execution_count": 105,
   "metadata": {},
   "outputs": [
    {
     "data": {
      "text/plain": [
       "Counter({42: 1, 53: 2, 62: 1, 43: 1, 57: 1, 46: 2, 52: 1, 44: 1})"
      ]
     },
     "execution_count": 105,
     "metadata": {},
     "output_type": "execute_result"
    }
   ],
   "source": []
  },
  {
   "cell_type": "code",
   "execution_count": 113,
   "metadata": {},
   "outputs": [],
   "source": [
    "def plot_binomial(p,n,trial):\n",
    "    data = [binomial(p,n)\n",
    "           for _ in range(trial)]\n",
    "    \n",
    "    probability = [count / trial\n",
    "                  for count in Counter(data).values()]\n",
    "    success_count = [success\n",
    "                    for success in Counter(data).keys()]\n",
    "    \n",
    "    plt.bar(success_count,\n",
    "           probability,\n",
    "           0.8)\n",
    "    plt.show()"
   ]
  },
  {
   "cell_type": "code",
   "execution_count": 118,
   "metadata": {},
   "outputs": [
    {
     "data": {
      "image/png": "[encoded data removed]",
      "text/plain": [
       "<Figure size 432x288 with 1 Axes>"
      ]
     },
     "metadata": {
      "needs_background": "light"
     },
     "output_type": "display_data"
    }
   ],
   "source": [
    "plot_binomial(0.5,100,10000)"
   ]
  },
  {
   "cell_type": "markdown",
   "metadata": {},
   "source": [
    "# Normal cdf"
   ]
  },
  {
   "cell_type": "code",
   "execution_count": 201,
   "metadata": {},
   "outputs": [],
   "source": [
    "def normal_cdf(x, mu=0, sigma=1):\n",
    "    return (1+math.erf((x-mu) / math.sqrt(2) / sigma)) /2"
   ]
  },
  {
   "cell_type": "code",
   "execution_count": 202,
   "metadata": {},
   "outputs": [
    {
     "data": {
      "image/png": "[encoded data removed]",
      "text/plain": [
       "<Figure size 432x288 with 1 Axes>"
      ]
     },
     "metadata": {
      "needs_background": "light"
     },
     "output_type": "display_data"
    }
   ],
   "source": [
    "xs = [x/10\n",
    "     for x in range(-50,50)]\n",
    "plt.plot(xs,[normal_cdf(x) for x in xs], '-', label = 'standard CDF')\n",
    "plt.show()"
   ]
  },
  {
   "cell_type": "code",
   "execution_count": 203,
   "metadata": {},
   "outputs": [],
   "source": [
    "def inverse_normal_cdf(p, mu=0, sigma=1, tolerance=0.00001):\n",
    "        if mu != 0 or sigma != 1:\n",
    "            return mu + sigma * inverse_normal_cdf(p,tolerance=tolerance)\n",
    "        \n",
    "        low_z = -10.0\n",
    "        high_z = 10.0\n",
    "        while high_z - low_z > tolerance:\n",
    "            mid_z = (low_z + high_z)/2\n",
    "            mid_p = normal_cdf(mid_z)\n",
    "            \n",
    "            if mid_p < p:\n",
    "                low_z =  mid_z\n",
    "                \n",
    "            if mid_p > p:\n",
    "                high_z = mid_z\n",
    "                \n",
    "            else:\n",
    "                break\n",
    "                \n",
    "        return mid_z"
   ]
  },
  {
   "cell_type": "code",
   "execution_count": 204,
   "metadata": {},
   "outputs": [
    {
     "data": {
      "text/plain": [
       "-5.0"
      ]
     },
     "execution_count": 204,
     "metadata": {},
     "output_type": "execute_result"
    }
   ],
   "source": [
    "inverse_normal_cdf(0.05)"
   ]
  },
  {
   "cell_type": "markdown",
   "metadata": {},
   "source": [
    "# Hypothesis"
   ]
  },
  {
   "cell_type": "code",
   "execution_count": 210,
   "metadata": {},
   "outputs": [],
   "source": [
    "def normal_approximation_to_binomial(n,p):\n",
    "    mu = p*n\n",
    "    sigma = math.sqrt(p*(1-p)*n)\n",
    "    return mu, sigma\n",
    "\n",
    "def coin_flip():\n",
    "    trial = 1000\n",
    "    probability = 0.5\n",
    "    return trial,probability"
   ]
  },
  {
   "cell_type": "code",
   "execution_count": 211,
   "metadata": {},
   "outputs": [
    {
     "data": {
      "text/plain": [
       "(500.0, 15.811388300841896)"
      ]
     },
     "execution_count": 211,
     "metadata": {},
     "output_type": "execute_result"
    }
   ],
   "source": [
    "normal_approximation_to_binomial(1000,0.5)"
   ]
  },
  {
   "cell_type": "code",
   "execution_count": 212,
   "metadata": {},
   "outputs": [],
   "source": [
    "def upperbound(p, mu=0, sigma=1):\n",
    "    return inverse_normal_cdf(p, mu, sigma)\n",
    "\n",
    "def lowerbound(p, mu=0, sigma=1):\n",
    "    return inverse_normal_cdf(1-p, mu, sigma)\n",
    "\n",
    "def lower_upper_limit(p, mu=0, sigma=1):\n",
    "    tail_probability = (1-p)/2\n",
    "    upper_limit = upperbound(tail_probability, mu=0, sigma=1)\n",
    "    lower_limit = lowerbound(tail_probability, mu=0, sigma=1)\n",
    "    \n",
    "    return upper_limit, lower_limit"
   ]
  },
  {
   "cell_type": "code",
   "execution_count": 213,
   "metadata": {},
   "outputs": [
    {
     "data": {
      "text/plain": [
       "(-5.0, 0.0)"
      ]
     },
     "execution_count": 213,
     "metadata": {},
     "output_type": "execute_result"
    }
   ],
   "source": [
    "mu_hypothesis, sigma_hypothesis = normal_approximation_to_binomial(1000,0.5)\n",
    "\n",
    "limit = lower_upper_limit(0.95,mu_hypothesis, sigma_hypothesis)\n",
    "limit"
   ]
  },
  {
   "cell_type": "code",
   "execution_count": null,
   "metadata": {},
   "outputs": [],
   "source": []
  },
  {
   "cell_type": "code",
   "execution_count": null,
   "metadata": {},
   "outputs": [],
   "source": []
  }
 ],
 "metadata": {
  "kernelspec": {
   "display_name": "Python 3",
   "language": "python",
   "name": "python3"
  },
  "language_info": {
   "codemirror_mode": {
    "name": "ipython",
    "version": 3
   },
   "file_extension": ".py",
   "mimetype": "text/x-python",
   "name": "python",
   "nbconvert_exporter": "python",
   "pygments_lexer": "ipython3",
   "version": "3.6.5"
  }
 },
 "nbformat": 4,
 "nbformat_minor": 2
}
