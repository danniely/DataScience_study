{
 "cells": [
  {
   "cell_type": "code",
   "execution_count": 1,
   "metadata": {},
   "outputs": [],
   "source": [
    "import math\n",
    "from collections import Counter\n",
    "from matplotlib import pyplot as plt\n",
    "import random\n",
    "import pandas as pd\n",
    "import os\n",
    "import sys\n",
    "import csv\n",
    "import dateutil.parser\n",
    "from packages.Statistics import correlation\n",
    "from collections import Counter\n",
    "import numpy as np\n",
    "from collections import Counter, defaultdict\n",
    "import re"
   ]
  },
  {
   "cell_type": "code",
   "execution_count": 2,
   "metadata": {},
   "outputs": [],
   "source": [
    "raw_data = []\n",
    "raw_data = pd.read_csv(\"datasets/true_car_listings.csv\")\n",
    "# Credit: https://www.kaggle.com/jpayne/852k-used-car-listings/version/2#true_car_listings.csv"
   ]
  },
  {
   "cell_type": "code",
   "execution_count": 3,
   "metadata": {
    "scrolled": true
   },
   "outputs": [
    {
     "data": {
      "text/html": [
       "<div>\n",
       "<style scoped>\n",
       "    .dataframe tbody tr th:only-of-type {\n",
       "        vertical-align: middle;\n",
       "    }\n",
       "\n",
       "    .dataframe tbody tr th {\n",
       "        vertical-align: top;\n",
       "    }\n",
       "\n",
       "    .dataframe thead th {\n",
       "        text-align: right;\n",
       "    }\n",
       "</style>\n",
       "<table border=\"1\" class=\"dataframe\">\n",
       "  <thead>\n",
       "    <tr style=\"text-align: right;\">\n",
       "      <th></th>\n",
       "      <th>Price</th>\n",
       "      <th>Year</th>\n",
       "      <th>Mileage</th>\n",
       "      <th>City</th>\n",
       "      <th>State</th>\n",
       "      <th>Vin</th>\n",
       "      <th>Make</th>\n",
       "      <th>Model</th>\n",
       "    </tr>\n",
       "  </thead>\n",
       "  <tbody>\n",
       "    <tr>\n",
       "      <th>0</th>\n",
       "      <td>8995</td>\n",
       "      <td>2014</td>\n",
       "      <td>35725</td>\n",
       "      <td>El Paso</td>\n",
       "      <td>TX</td>\n",
       "      <td>19VDE2E53EE000083</td>\n",
       "      <td>Acura</td>\n",
       "      <td>ILX6-Speed</td>\n",
       "    </tr>\n",
       "    <tr>\n",
       "      <th>1</th>\n",
       "      <td>10888</td>\n",
       "      <td>2013</td>\n",
       "      <td>19606</td>\n",
       "      <td>Long Island City</td>\n",
       "      <td>NY</td>\n",
       "      <td>19VDE1F52DE012636</td>\n",
       "      <td>Acura</td>\n",
       "      <td>ILX5-Speed</td>\n",
       "    </tr>\n",
       "    <tr>\n",
       "      <th>2</th>\n",
       "      <td>8995</td>\n",
       "      <td>2013</td>\n",
       "      <td>48851</td>\n",
       "      <td>El Paso</td>\n",
       "      <td>TX</td>\n",
       "      <td>19VDE2E52DE000025</td>\n",
       "      <td>Acura</td>\n",
       "      <td>ILX6-Speed</td>\n",
       "    </tr>\n",
       "    <tr>\n",
       "      <th>3</th>\n",
       "      <td>10999</td>\n",
       "      <td>2014</td>\n",
       "      <td>39922</td>\n",
       "      <td>Windsor</td>\n",
       "      <td>CO</td>\n",
       "      <td>19VDE1F71EE003817</td>\n",
       "      <td>Acura</td>\n",
       "      <td>ILX5-Speed</td>\n",
       "    </tr>\n",
       "    <tr>\n",
       "      <th>4</th>\n",
       "      <td>14799</td>\n",
       "      <td>2016</td>\n",
       "      <td>22142</td>\n",
       "      <td>Lindon</td>\n",
       "      <td>UT</td>\n",
       "      <td>19UDE2F32GA001284</td>\n",
       "      <td>Acura</td>\n",
       "      <td>ILXAutomatic</td>\n",
       "    </tr>\n",
       "  </tbody>\n",
       "</table>\n",
       "</div>"
      ],
      "text/plain": [
       "   Price  Year  Mileage              City State                Vin   Make  \\\n",
       "0   8995  2014    35725           El Paso    TX  19VDE2E53EE000083  Acura   \n",
       "1  10888  2013    19606  Long Island City    NY  19VDE1F52DE012636  Acura   \n",
       "2   8995  2013    48851           El Paso    TX  19VDE2E52DE000025  Acura   \n",
       "3  10999  2014    39922           Windsor    CO  19VDE1F71EE003817  Acura   \n",
       "4  14799  2016    22142            Lindon    UT  19UDE2F32GA001284  Acura   \n",
       "\n",
       "          Model  \n",
       "0    ILX6-Speed  \n",
       "1    ILX5-Speed  \n",
       "2    ILX6-Speed  \n",
       "3    ILX5-Speed  \n",
       "4  ILXAutomatic  "
      ]
     },
     "execution_count": 3,
     "metadata": {},
     "output_type": "execute_result"
    }
   ],
   "source": [
    "raw_data.head()"
   ]
  },
  {
   "cell_type": "code",
   "execution_count": 4,
   "metadata": {},
   "outputs": [],
   "source": [
    "top_brands = pd.read_csv(\"datasets/us_top_18_brands_2018.csv\")"
   ]
  },
  {
   "cell_type": "code",
   "execution_count": 5,
   "metadata": {},
   "outputs": [],
   "source": [
    "top_models = pd.read_csv(\"datasets/popular_models.csv\")"
   ]
  },
  {
   "cell_type": "code",
   "execution_count": 6,
   "metadata": {},
   "outputs": [
    {
     "data": {
      "text/html": [
       "<div>\n",
       "<style scoped>\n",
       "    .dataframe tbody tr th:only-of-type {\n",
       "        vertical-align: middle;\n",
       "    }\n",
       "\n",
       "    .dataframe tbody tr th {\n",
       "        vertical-align: top;\n",
       "    }\n",
       "\n",
       "    .dataframe thead th {\n",
       "        text-align: right;\n",
       "    }\n",
       "</style>\n",
       "<table border=\"1\" class=\"dataframe\">\n",
       "  <thead>\n",
       "    <tr style=\"text-align: right;\">\n",
       "      <th></th>\n",
       "      <th>Model</th>\n",
       "      <th>Month</th>\n",
       "      <th>Month LY</th>\n",
       "      <th>Change</th>\n",
       "      <th>YTD</th>\n",
       "      <th>YTD LY</th>\n",
       "      <th>YTD Change</th>\n",
       "    </tr>\n",
       "  </thead>\n",
       "  <tbody>\n",
       "    <tr>\n",
       "      <th>0</th>\n",
       "      <td>Toyota Camry</td>\n",
       "      <td>29,093</td>\n",
       "      <td>43,331</td>\n",
       "      <td>-32.86</td>\n",
       "      <td>343,439</td>\n",
       "      <td>387,081</td>\n",
       "      <td>-11.27</td>\n",
       "    </tr>\n",
       "    <tr>\n",
       "      <th>1</th>\n",
       "      <td>Honda Civic</td>\n",
       "      <td>26,384</td>\n",
       "      <td>31,406</td>\n",
       "      <td>-15.99</td>\n",
       "      <td>325,760</td>\n",
       "      <td>377,286</td>\n",
       "      <td>-13.66</td>\n",
       "    </tr>\n",
       "    <tr>\n",
       "      <th>2</th>\n",
       "      <td>Toyota Corolla</td>\n",
       "      <td>25,439</td>\n",
       "      <td>19,969</td>\n",
       "      <td>27.39</td>\n",
       "      <td>303,732</td>\n",
       "      <td>329,196</td>\n",
       "      <td>-7.74</td>\n",
       "    </tr>\n",
       "    <tr>\n",
       "      <th>3</th>\n",
       "      <td>Honda Accord</td>\n",
       "      <td>28,627</td>\n",
       "      <td>22,115</td>\n",
       "      <td>29.45</td>\n",
       "      <td>291,071</td>\n",
       "      <td>322,655</td>\n",
       "      <td>-9.79</td>\n",
       "    </tr>\n",
       "    <tr>\n",
       "      <th>4</th>\n",
       "      <td>Nissan Sentra</td>\n",
       "      <td>17,567</td>\n",
       "      <td>16,834</td>\n",
       "      <td>4.35</td>\n",
       "      <td>213,046</td>\n",
       "      <td>218,451</td>\n",
       "      <td>-2.47</td>\n",
       "    </tr>\n",
       "  </tbody>\n",
       "</table>\n",
       "</div>"
      ],
      "text/plain": [
       "            Model   Month Month LY  Change      YTD   YTD LY YTD Change\n",
       "0    Toyota Camry  29,093   43,331  -32.86  343,439  387,081     -11.27\n",
       "1     Honda Civic  26,384   31,406  -15.99  325,760  377,286     -13.66\n",
       "2  Toyota Corolla  25,439   19,969   27.39  303,732  329,196      -7.74\n",
       "3    Honda Accord  28,627   22,115   29.45  291,071  322,655      -9.79\n",
       "4   Nissan Sentra  17,567   16,834    4.35  213,046  218,451      -2.47"
      ]
     },
     "execution_count": 6,
     "metadata": {},
     "output_type": "execute_result"
    }
   ],
   "source": [
    "top_models.head()"
   ]
  },
  {
   "cell_type": "code",
   "execution_count": 7,
   "metadata": {},
   "outputs": [],
   "source": [
    "brand_model = [[top_models['Model'][i].split(\" \")[0],\n",
    "               top_models['Model'][i].split(\" \")[1]]\n",
    "               for i in range(len(top_models))]"
   ]
  },
  {
   "cell_type": "code",
   "execution_count": 8,
   "metadata": {},
   "outputs": [],
   "source": [
    "brand_model_make = [brand_model[i][0]\n",
    "                   for i in range(len(brand_model))]\n",
    "brand_model_model = [brand_model[i][1]\n",
    "                   for i in range(len(brand_model))]"
   ]
  },
  {
   "cell_type": "code",
   "execution_count": 9,
   "metadata": {},
   "outputs": [],
   "source": [
    "raw_data = raw_data.loc[raw_data['Make'].isin(list(set(brand_model_make)))]"
   ]
  },
  {
   "cell_type": "code",
   "execution_count": 10,
   "metadata": {},
   "outputs": [],
   "source": [
    "raw_data.index = range(len(raw_data))"
   ]
  },
  {
   "cell_type": "code",
   "execution_count": 11,
   "metadata": {},
   "outputs": [
    {
     "data": {
      "text/html": [
       "<div>\n",
       "<style scoped>\n",
       "    .dataframe tbody tr th:only-of-type {\n",
       "        vertical-align: middle;\n",
       "    }\n",
       "\n",
       "    .dataframe tbody tr th {\n",
       "        vertical-align: top;\n",
       "    }\n",
       "\n",
       "    .dataframe thead th {\n",
       "        text-align: right;\n",
       "    }\n",
       "</style>\n",
       "<table border=\"1\" class=\"dataframe\">\n",
       "  <thead>\n",
       "    <tr style=\"text-align: right;\">\n",
       "      <th></th>\n",
       "      <th>Price</th>\n",
       "      <th>Year</th>\n",
       "      <th>Mileage</th>\n",
       "      <th>City</th>\n",
       "      <th>State</th>\n",
       "      <th>Vin</th>\n",
       "      <th>Make</th>\n",
       "      <th>Model</th>\n",
       "    </tr>\n",
       "  </thead>\n",
       "  <tbody>\n",
       "    <tr>\n",
       "      <th>0</th>\n",
       "      <td>8995</td>\n",
       "      <td>2014</td>\n",
       "      <td>35725</td>\n",
       "      <td>El Paso</td>\n",
       "      <td>TX</td>\n",
       "      <td>19VDE2E53EE000083</td>\n",
       "      <td>Acura</td>\n",
       "      <td>ILX6-Speed</td>\n",
       "    </tr>\n",
       "    <tr>\n",
       "      <th>1</th>\n",
       "      <td>10888</td>\n",
       "      <td>2013</td>\n",
       "      <td>19606</td>\n",
       "      <td>Long Island City</td>\n",
       "      <td>NY</td>\n",
       "      <td>19VDE1F52DE012636</td>\n",
       "      <td>Acura</td>\n",
       "      <td>ILX5-Speed</td>\n",
       "    </tr>\n",
       "    <tr>\n",
       "      <th>2</th>\n",
       "      <td>8995</td>\n",
       "      <td>2013</td>\n",
       "      <td>48851</td>\n",
       "      <td>El Paso</td>\n",
       "      <td>TX</td>\n",
       "      <td>19VDE2E52DE000025</td>\n",
       "      <td>Acura</td>\n",
       "      <td>ILX6-Speed</td>\n",
       "    </tr>\n",
       "    <tr>\n",
       "      <th>3</th>\n",
       "      <td>10999</td>\n",
       "      <td>2014</td>\n",
       "      <td>39922</td>\n",
       "      <td>Windsor</td>\n",
       "      <td>CO</td>\n",
       "      <td>19VDE1F71EE003817</td>\n",
       "      <td>Acura</td>\n",
       "      <td>ILX5-Speed</td>\n",
       "    </tr>\n",
       "    <tr>\n",
       "      <th>4</th>\n",
       "      <td>14799</td>\n",
       "      <td>2016</td>\n",
       "      <td>22142</td>\n",
       "      <td>Lindon</td>\n",
       "      <td>UT</td>\n",
       "      <td>19UDE2F32GA001284</td>\n",
       "      <td>Acura</td>\n",
       "      <td>ILXAutomatic</td>\n",
       "    </tr>\n",
       "  </tbody>\n",
       "</table>\n",
       "</div>"
      ],
      "text/plain": [
       "   Price  Year  Mileage              City State                Vin   Make  \\\n",
       "0   8995  2014    35725           El Paso    TX  19VDE2E53EE000083  Acura   \n",
       "1  10888  2013    19606  Long Island City    NY  19VDE1F52DE012636  Acura   \n",
       "2   8995  2013    48851           El Paso    TX  19VDE2E52DE000025  Acura   \n",
       "3  10999  2014    39922           Windsor    CO  19VDE1F71EE003817  Acura   \n",
       "4  14799  2016    22142            Lindon    UT  19UDE2F32GA001284  Acura   \n",
       "\n",
       "          Model  \n",
       "0    ILX6-Speed  \n",
       "1    ILX5-Speed  \n",
       "2    ILX6-Speed  \n",
       "3    ILX5-Speed  \n",
       "4  ILXAutomatic  "
      ]
     },
     "execution_count": 11,
     "metadata": {},
     "output_type": "execute_result"
    }
   ],
   "source": [
    "raw_data.head()"
   ]
  },
  {
   "cell_type": "code",
   "execution_count": 12,
   "metadata": {},
   "outputs": [],
   "source": [
    "categorized_model = defaultdict(list)\n",
    "for i,j in brand_model:\n",
    "    categorized_model[i].append(j)"
   ]
  },
  {
   "cell_type": "code",
   "execution_count": 13,
   "metadata": {},
   "outputs": [
    {
     "data": {
      "text/plain": [
       "dict_keys(['Toyota', 'Honda', 'Nissan', 'Hyundai', 'Ford', 'Chevrolet', 'Tesla', 'Kia', 'Volkswagen', 'Dodge', 'Subaru', 'Mazda', 'Mercedes-Benz', 'Lexus', 'Chrysler', 'BMW', 'Infiniti', 'Audi', 'Acura', 'Mini', 'Mitsubishi', 'Lincoln', 'Cadillac', 'Buick', 'Alfa', 'Volvo', 'Porsche', 'Genesis', 'Fiat', 'Jaguar', 'Smart'])"
      ]
     },
     "execution_count": 13,
     "metadata": {},
     "output_type": "execute_result"
    }
   ],
   "source": [
    "categorized_model.keys()"
   ]
  },
  {
   "cell_type": "code",
   "execution_count": 14,
   "metadata": {},
   "outputs": [],
   "source": [
    "j = 0\n",
    "new_data = pd.DataFrame()\n",
    "for i in range(len(raw_data)-1):\n",
    "    if raw_data['Make'][i] != raw_data['Make'][i+1] or i == len(raw_data)-2:\n",
    "        new_data = new_data.append(raw_data[j:i].sort_values(by=['Model']))\n",
    "        j = i\n",
    "new_data.index = range(len(new_data))"
   ]
  },
  {
   "cell_type": "code",
   "execution_count": 15,
   "metadata": {
    "scrolled": true
   },
   "outputs": [
    {
     "data": {
      "text/html": [
       "<div>\n",
       "<style scoped>\n",
       "    .dataframe tbody tr th:only-of-type {\n",
       "        vertical-align: middle;\n",
       "    }\n",
       "\n",
       "    .dataframe tbody tr th {\n",
       "        vertical-align: top;\n",
       "    }\n",
       "\n",
       "    .dataframe thead th {\n",
       "        text-align: right;\n",
       "    }\n",
       "</style>\n",
       "<table border=\"1\" class=\"dataframe\">\n",
       "  <thead>\n",
       "    <tr style=\"text-align: right;\">\n",
       "      <th></th>\n",
       "      <th>Price</th>\n",
       "      <th>Year</th>\n",
       "      <th>Mileage</th>\n",
       "      <th>City</th>\n",
       "      <th>State</th>\n",
       "      <th>Vin</th>\n",
       "      <th>Make</th>\n",
       "      <th>Model</th>\n",
       "      <th>General Model</th>\n",
       "    </tr>\n",
       "  </thead>\n",
       "  <tbody>\n",
       "    <tr>\n",
       "      <th>0</th>\n",
       "      <td>4995</td>\n",
       "      <td>1997</td>\n",
       "      <td>121462</td>\n",
       "      <td>Sneads Ferry</td>\n",
       "      <td>NC</td>\n",
       "      <td>19UYA2246VL003892</td>\n",
       "      <td>Acura</td>\n",
       "      <td>CLAutomatic</td>\n",
       "      <td></td>\n",
       "    </tr>\n",
       "    <tr>\n",
       "      <th>1</th>\n",
       "      <td>5500</td>\n",
       "      <td>2001</td>\n",
       "      <td>87625</td>\n",
       "      <td>Lynnwood</td>\n",
       "      <td>WA</td>\n",
       "      <td>19UYA42491A036676</td>\n",
       "      <td>Acura</td>\n",
       "      <td>CLAutomatic</td>\n",
       "      <td></td>\n",
       "    </tr>\n",
       "    <tr>\n",
       "      <th>2</th>\n",
       "      <td>2981</td>\n",
       "      <td>1999</td>\n",
       "      <td>224765</td>\n",
       "      <td>Oklahoma City</td>\n",
       "      <td>OK</td>\n",
       "      <td>19UYA2254XL001148</td>\n",
       "      <td>Acura</td>\n",
       "      <td>CLAutomatic</td>\n",
       "      <td></td>\n",
       "    </tr>\n",
       "    <tr>\n",
       "      <th>3</th>\n",
       "      <td>4495</td>\n",
       "      <td>1998</td>\n",
       "      <td>93969</td>\n",
       "      <td>Danbury</td>\n",
       "      <td>CT</td>\n",
       "      <td>19UYA2251WL010730</td>\n",
       "      <td>Acura</td>\n",
       "      <td>CLAutomatic</td>\n",
       "      <td></td>\n",
       "    </tr>\n",
       "    <tr>\n",
       "      <th>4</th>\n",
       "      <td>4995</td>\n",
       "      <td>2001</td>\n",
       "      <td>139903</td>\n",
       "      <td>Indianapolis</td>\n",
       "      <td>IN</td>\n",
       "      <td>19UYA42421A021467</td>\n",
       "      <td>Acura</td>\n",
       "      <td>CLAutomatic</td>\n",
       "      <td></td>\n",
       "    </tr>\n",
       "  </tbody>\n",
       "</table>\n",
       "</div>"
      ],
      "text/plain": [
       "   Price  Year  Mileage           City State                Vin   Make  \\\n",
       "0   4995  1997   121462   Sneads Ferry    NC  19UYA2246VL003892  Acura   \n",
       "1   5500  2001    87625       Lynnwood    WA  19UYA42491A036676  Acura   \n",
       "2   2981  1999   224765  Oklahoma City    OK  19UYA2254XL001148  Acura   \n",
       "3   4495  1998    93969        Danbury    CT  19UYA2251WL010730  Acura   \n",
       "4   4995  2001   139903   Indianapolis    IN  19UYA42421A021467  Acura   \n",
       "\n",
       "         Model General Model  \n",
       "0  CLAutomatic                \n",
       "1  CLAutomatic                \n",
       "2  CLAutomatic                \n",
       "3  CLAutomatic                \n",
       "4  CLAutomatic                "
      ]
     },
     "execution_count": 15,
     "metadata": {},
     "output_type": "execute_result"
    }
   ],
   "source": [
    "new_data['General Model'] = ''\n",
    "new_data.head()"
   ]
  },
  {
   "cell_type": "code",
   "execution_count": 16,
   "metadata": {},
   "outputs": [
    {
     "data": {
      "text/plain": [
       "728779"
      ]
     },
     "execution_count": 16,
     "metadata": {},
     "output_type": "execute_result"
    }
   ],
   "source": [
    "len(new_data)"
   ]
  },
  {
   "cell_type": "code",
   "execution_count": null,
   "metadata": {},
   "outputs": [],
   "source": []
  },
  {
   "cell_type": "code",
   "execution_count": 17,
   "metadata": {},
   "outputs": [],
   "source": [
    "j = 0\n",
    "for i in range(len(new_data)-1):\n",
    "    if new_data['Model'][i] != new_data['Model'][i+1] or i == len(new_data)-2:\n",
    "        count = 0\n",
    "        for carmodel in categorized_model[new_data['Make'][i]]:\n",
    "            count = count + 1\n",
    "            if carmodel in new_data['Model'][i]:\n",
    "                new_data.loc[np.arange(j,i+1),'General Model'] = carmodel\n",
    "                break\n",
    "            elif count == len(categorized_model[new_data['Make'][i]]):\n",
    "                new_data = new_data.drop(np.arange(j,i+1))\n",
    "        \n",
    "        j = i+1"
   ]
  },
  {
   "cell_type": "code",
   "execution_count": 18,
   "metadata": {},
   "outputs": [],
   "source": [
    "new_data.index = range(len(new_data))"
   ]
  },
  {
   "cell_type": "code",
   "execution_count": 36,
   "metadata": {
    "scrolled": true
   },
   "outputs": [
    {
     "data": {
      "text/html": [
       "<div>\n",
       "<style scoped>\n",
       "    .dataframe tbody tr th:only-of-type {\n",
       "        vertical-align: middle;\n",
       "    }\n",
       "\n",
       "    .dataframe tbody tr th {\n",
       "        vertical-align: top;\n",
       "    }\n",
       "\n",
       "    .dataframe thead th {\n",
       "        text-align: right;\n",
       "    }\n",
       "</style>\n",
       "<table border=\"1\" class=\"dataframe\">\n",
       "  <thead>\n",
       "    <tr style=\"text-align: right;\">\n",
       "      <th></th>\n",
       "      <th>Price</th>\n",
       "      <th>Year</th>\n",
       "      <th>Mileage</th>\n",
       "      <th>City</th>\n",
       "      <th>State</th>\n",
       "      <th>Vin</th>\n",
       "      <th>Make</th>\n",
       "      <th>Model</th>\n",
       "      <th>General Model</th>\n",
       "      <th>New Car Price</th>\n",
       "    </tr>\n",
       "  </thead>\n",
       "  <tbody>\n",
       "    <tr>\n",
       "      <th>0</th>\n",
       "      <td>15490</td>\n",
       "      <td>2015</td>\n",
       "      <td>40131</td>\n",
       "      <td>Kennesaw</td>\n",
       "      <td>GA</td>\n",
       "      <td>19VDE1F34FE007892</td>\n",
       "      <td>Acura</td>\n",
       "      <td>ILX4dr</td>\n",
       "      <td>ILX</td>\n",
       "      <td>25900</td>\n",
       "    </tr>\n",
       "    <tr>\n",
       "      <th>1</th>\n",
       "      <td>18362</td>\n",
       "      <td>2015</td>\n",
       "      <td>14809</td>\n",
       "      <td>VIRGINIA BEACH</td>\n",
       "      <td>VA</td>\n",
       "      <td>19VDE1F33FE003882</td>\n",
       "      <td>Acura</td>\n",
       "      <td>ILX5-Speed</td>\n",
       "      <td>ILX</td>\n",
       "      <td>25900</td>\n",
       "    </tr>\n",
       "    <tr>\n",
       "      <th>2</th>\n",
       "      <td>17288</td>\n",
       "      <td>2014</td>\n",
       "      <td>35613</td>\n",
       "      <td>Arlington</td>\n",
       "      <td>TX</td>\n",
       "      <td>19VDE1F7XEE000401</td>\n",
       "      <td>Acura</td>\n",
       "      <td>ILX5-Speed</td>\n",
       "      <td>ILX</td>\n",
       "      <td>25900</td>\n",
       "    </tr>\n",
       "    <tr>\n",
       "      <th>3</th>\n",
       "      <td>17995</td>\n",
       "      <td>2015</td>\n",
       "      <td>19896</td>\n",
       "      <td>Bethlehem</td>\n",
       "      <td>PA</td>\n",
       "      <td>19VDE1F39FE000856</td>\n",
       "      <td>Acura</td>\n",
       "      <td>ILX5-Speed</td>\n",
       "      <td>ILX</td>\n",
       "      <td>25900</td>\n",
       "    </tr>\n",
       "    <tr>\n",
       "      <th>4</th>\n",
       "      <td>17350</td>\n",
       "      <td>2015</td>\n",
       "      <td>40840</td>\n",
       "      <td>Rosedale</td>\n",
       "      <td>MD</td>\n",
       "      <td>19VDE1F59FE003371</td>\n",
       "      <td>Acura</td>\n",
       "      <td>ILX5-Speed</td>\n",
       "      <td>ILX</td>\n",
       "      <td>25900</td>\n",
       "    </tr>\n",
       "  </tbody>\n",
       "</table>\n",
       "</div>"
      ],
      "text/plain": [
       "   Price  Year  Mileage            City State                Vin   Make  \\\n",
       "0  15490  2015    40131        Kennesaw    GA  19VDE1F34FE007892  Acura   \n",
       "1  18362  2015    14809  VIRGINIA BEACH    VA  19VDE1F33FE003882  Acura   \n",
       "2  17288  2014    35613       Arlington    TX  19VDE1F7XEE000401  Acura   \n",
       "3  17995  2015    19896       Bethlehem    PA  19VDE1F39FE000856  Acura   \n",
       "4  17350  2015    40840        Rosedale    MD  19VDE1F59FE003371  Acura   \n",
       "\n",
       "        Model General Model New Car Price  \n",
       "0      ILX4dr           ILX         25900  \n",
       "1  ILX5-Speed           ILX         25900  \n",
       "2  ILX5-Speed           ILX         25900  \n",
       "3  ILX5-Speed           ILX         25900  \n",
       "4  ILX5-Speed           ILX         25900  "
      ]
     },
     "execution_count": 36,
     "metadata": {},
     "output_type": "execute_result"
    }
   ],
   "source": [
    "new_data.head()"
   ]
  },
  {
   "cell_type": "code",
   "execution_count": 37,
   "metadata": {},
   "outputs": [],
   "source": [
    "sample_data = pd.DataFrame()"
   ]
  },
  {
   "cell_type": "code",
   "execution_count": 38,
   "metadata": {
    "scrolled": true
   },
   "outputs": [],
   "source": [
    "j = 0\n",
    "\n",
    "for i in range(len(new_data)-1):\n",
    "    if new_data['General Model'][i] != new_data['General Model'][i+1] or i == len(new_data)-2:\n",
    "        if (i-j) > 18:\n",
    "            sample_data = sample_data.append(new_data[j:i].sample(n=20))\n",
    "        j = i+1"
   ]
  },
  {
   "cell_type": "code",
   "execution_count": 41,
   "metadata": {},
   "outputs": [
    {
     "data": {
      "text/html": [
       "<div>\n",
       "<style scoped>\n",
       "    .dataframe tbody tr th:only-of-type {\n",
       "        vertical-align: middle;\n",
       "    }\n",
       "\n",
       "    .dataframe tbody tr th {\n",
       "        vertical-align: top;\n",
       "    }\n",
       "\n",
       "    .dataframe thead th {\n",
       "        text-align: right;\n",
       "    }\n",
       "</style>\n",
       "<table border=\"1\" class=\"dataframe\">\n",
       "  <thead>\n",
       "    <tr style=\"text-align: right;\">\n",
       "      <th></th>\n",
       "      <th>Price</th>\n",
       "      <th>Year</th>\n",
       "      <th>Mileage</th>\n",
       "      <th>City</th>\n",
       "      <th>State</th>\n",
       "      <th>Vin</th>\n",
       "      <th>Make</th>\n",
       "      <th>Model</th>\n",
       "      <th>General Model</th>\n",
       "      <th>New Car Price</th>\n",
       "    </tr>\n",
       "  </thead>\n",
       "  <tbody>\n",
       "    <tr>\n",
       "      <th>0</th>\n",
       "      <td>21747</td>\n",
       "      <td>2016</td>\n",
       "      <td>20038</td>\n",
       "      <td>Fort Myers</td>\n",
       "      <td>FL</td>\n",
       "      <td>19UDE2F77GA006421</td>\n",
       "      <td>Acura</td>\n",
       "      <td>ILXAutomatic</td>\n",
       "      <td>ILX</td>\n",
       "      <td>25900</td>\n",
       "    </tr>\n",
       "    <tr>\n",
       "      <th>1</th>\n",
       "      <td>13995</td>\n",
       "      <td>2014</td>\n",
       "      <td>67261</td>\n",
       "      <td>Nashville</td>\n",
       "      <td>TN</td>\n",
       "      <td>19VDE1F35EE009147</td>\n",
       "      <td>Acura</td>\n",
       "      <td>ILX5-Speed</td>\n",
       "      <td>ILX</td>\n",
       "      <td>25900</td>\n",
       "    </tr>\n",
       "    <tr>\n",
       "      <th>2</th>\n",
       "      <td>14999</td>\n",
       "      <td>2015</td>\n",
       "      <td>42989</td>\n",
       "      <td>Duluth</td>\n",
       "      <td>GA</td>\n",
       "      <td>19VDE1F37FE000614</td>\n",
       "      <td>Acura</td>\n",
       "      <td>ILX5-Speed</td>\n",
       "      <td>ILX</td>\n",
       "      <td>25900</td>\n",
       "    </tr>\n",
       "    <tr>\n",
       "      <th>3</th>\n",
       "      <td>19000</td>\n",
       "      <td>2015</td>\n",
       "      <td>23779</td>\n",
       "      <td>Verona</td>\n",
       "      <td>NJ</td>\n",
       "      <td>19VDE1F36FE008882</td>\n",
       "      <td>Acura</td>\n",
       "      <td>ILX5-Speed</td>\n",
       "      <td>ILX</td>\n",
       "      <td>25900</td>\n",
       "    </tr>\n",
       "    <tr>\n",
       "      <th>4</th>\n",
       "      <td>21997</td>\n",
       "      <td>2016</td>\n",
       "      <td>21206</td>\n",
       "      <td>Ramsey</td>\n",
       "      <td>NJ</td>\n",
       "      <td>19UDE2F36GA020212</td>\n",
       "      <td>Acura</td>\n",
       "      <td>ILXAutomatic</td>\n",
       "      <td>ILX</td>\n",
       "      <td>25900</td>\n",
       "    </tr>\n",
       "  </tbody>\n",
       "</table>\n",
       "</div>"
      ],
      "text/plain": [
       "   Price  Year  Mileage        City State                Vin   Make  \\\n",
       "0  21747  2016    20038  Fort Myers    FL  19UDE2F77GA006421  Acura   \n",
       "1  13995  2014    67261   Nashville    TN  19VDE1F35EE009147  Acura   \n",
       "2  14999  2015    42989      Duluth    GA  19VDE1F37FE000614  Acura   \n",
       "3  19000  2015    23779      Verona    NJ  19VDE1F36FE008882  Acura   \n",
       "4  21997  2016    21206      Ramsey    NJ  19UDE2F36GA020212  Acura   \n",
       "\n",
       "          Model General Model New Car Price  \n",
       "0  ILXAutomatic           ILX         25900  \n",
       "1    ILX5-Speed           ILX         25900  \n",
       "2    ILX5-Speed           ILX         25900  \n",
       "3    ILX5-Speed           ILX         25900  \n",
       "4  ILXAutomatic           ILX         25900  "
      ]
     },
     "execution_count": 41,
     "metadata": {},
     "output_type": "execute_result"
    }
   ],
   "source": [
    "sample_data.index = range(len(sample_data))\n",
    "sample_data.head()"
   ]
  },
  {
   "cell_type": "code",
   "execution_count": 43,
   "metadata": {},
   "outputs": [
    {
     "name": "stdout",
     "output_type": "stream",
     "text": [
      "\n",
      "Checking for win32 chromedriver:2.46 in cache\n",
      "Driver found in C:\\Users\\Danniel\\.wdm\\chromedriver\\2.46\\win32/chromedriver.exe\n"
     ]
    }
   ],
   "source": [
    "from bs4 import BeautifulSoup\n",
    "from selenium import webdriver\n",
    "from webdriver_manager.chrome import ChromeDriverManager\n",
    "\n",
    "driver = webdriver.Chrome(ChromeDriverManager().install())\n",
    "import requests"
   ]
  },
  {
   "cell_type": "code",
   "execution_count": 51,
   "metadata": {},
   "outputs": [],
   "source": [
    "def google_car_price(brand,model):\n",
    "    driver.get('https://www.google.com/search?q=+'+brand+ '+' + model + '+2019+price')\n",
    "    html = driver.page_source\n",
    "    soup = BeautifulSoup(html, 'html.parser')\n",
    "    \n",
    "    if soup.find(id = 'recaptcha'):\n",
    "        input(\"Resolve Captcha then press Enter to continue...\")\n",
    "           \n",
    "    while True:\n",
    "        try:\n",
    "            search = soup.find(id = \"search\")\n",
    "            price_pedding = search.find(class_=\"Z0LcW\").text\n",
    "            return (re.sub(r'\\D', \"\", price_pedding))\n",
    "        except(AttributeError):\n",
    "            return 'NaN'"
   ]
  },
  {
   "cell_type": "code",
   "execution_count": 52,
   "metadata": {},
   "outputs": [
    {
     "data": {
      "text/plain": [
       "'25900'"
      ]
     },
     "execution_count": 52,
     "metadata": {},
     "output_type": "execute_result"
    }
   ],
   "source": [
    "google_car_price('acura','ILX')"
   ]
  },
  {
   "cell_type": "code",
   "execution_count": 53,
   "metadata": {},
   "outputs": [],
   "source": [
    "sample_data['New Car Price'] = ''"
   ]
  },
  {
   "cell_type": "code",
   "execution_count": 54,
   "metadata": {},
   "outputs": [
    {
     "name": "stdout",
     "output_type": "stream",
     "text": [
      "Resolve Captcha then press Enter to continue...\n"
     ]
    }
   ],
   "source": [
    "j = 0\n",
    "for i in range(len(sample_data)-1):\n",
    "    if sample_data['General Model'][i] != sample_data['General Model'][i+1]: \n",
    "        new_car_price = google_car_price(sample_data['Make'][i],sample_data['General Model'][i])\n",
    "        sample_data.loc[np.arange(j,i+1),'New Car Price'] = new_car_price\n",
    "        j = i+1\n",
    "    if i == len(sample_data)-2:\n",
    "        new_car_price = google_car_price(sample_data['Make'][i],sample_data['General Model'][i])\n",
    "        sample_data.loc[np.arange(j,i+2),'New Car Price'] = new_car_price"
   ]
  },
  {
   "cell_type": "code",
   "execution_count": 70,
   "metadata": {},
   "outputs": [
    {
     "data": {
      "text/html": [
       "<div>\n",
       "<style scoped>\n",
       "    .dataframe tbody tr th:only-of-type {\n",
       "        vertical-align: middle;\n",
       "    }\n",
       "\n",
       "    .dataframe tbody tr th {\n",
       "        vertical-align: top;\n",
       "    }\n",
       "\n",
       "    .dataframe thead th {\n",
       "        text-align: right;\n",
       "    }\n",
       "</style>\n",
       "<table border=\"1\" class=\"dataframe\">\n",
       "  <thead>\n",
       "    <tr style=\"text-align: right;\">\n",
       "      <th></th>\n",
       "      <th>Price</th>\n",
       "      <th>Year</th>\n",
       "      <th>Mileage</th>\n",
       "      <th>City</th>\n",
       "      <th>State</th>\n",
       "      <th>Vin</th>\n",
       "      <th>Make</th>\n",
       "      <th>Model</th>\n",
       "      <th>General Model</th>\n",
       "      <th>New Car Price</th>\n",
       "    </tr>\n",
       "  </thead>\n",
       "  <tbody>\n",
       "    <tr>\n",
       "      <th>2318</th>\n",
       "      <td>17997</td>\n",
       "      <td>2016</td>\n",
       "      <td>224</td>\n",
       "      <td>Tempe</td>\n",
       "      <td>AZ</td>\n",
       "      <td>WVWKP7AU7GW915465</td>\n",
       "      <td>Volkswagen</td>\n",
       "      <td>e-GolfSE</td>\n",
       "      <td>Golf</td>\n",
       "      <td>21845</td>\n",
       "    </tr>\n",
       "    <tr>\n",
       "      <th>2319</th>\n",
       "      <td>17995</td>\n",
       "      <td>2016</td>\n",
       "      <td>5419</td>\n",
       "      <td>Colma</td>\n",
       "      <td>CA</td>\n",
       "      <td>WVWKP7AU4GW907565</td>\n",
       "      <td>Volkswagen</td>\n",
       "      <td>e-GolfSE</td>\n",
       "      <td>Golf</td>\n",
       "      <td>21845</td>\n",
       "    </tr>\n",
       "  </tbody>\n",
       "</table>\n",
       "</div>"
      ],
      "text/plain": [
       "      Price  Year  Mileage   City State                Vin        Make  \\\n",
       "2318  17997  2016      224  Tempe    AZ  WVWKP7AU7GW915465  Volkswagen   \n",
       "2319  17995  2016     5419  Colma    CA  WVWKP7AU4GW907565  Volkswagen   \n",
       "\n",
       "         Model General Model New Car Price  \n",
       "2318  e-GolfSE          Golf         21845  \n",
       "2319  e-GolfSE          Golf         21845  "
      ]
     },
     "execution_count": 70,
     "metadata": {},
     "output_type": "execute_result"
    }
   ],
   "source": [
    "sample_data[2318:2320]"
   ]
  },
  {
   "cell_type": "code",
   "execution_count": 68,
   "metadata": {},
   "outputs": [
    {
     "data": {
      "text/plain": [
       "'21845'"
      ]
     },
     "execution_count": 68,
     "metadata": {},
     "output_type": "execute_result"
    }
   ],
   "source": [
    "sample_data['New Car Price'][2318]"
   ]
  },
  {
   "cell_type": "code",
   "execution_count": 71,
   "metadata": {},
   "outputs": [],
   "source": [
    "sample_data.to_csv(\"datasets/Car_model_price_modified.csv\")"
   ]
  },
  {
   "cell_type": "code",
   "execution_count": null,
   "metadata": {},
   "outputs": [],
   "source": []
  }
 ],
 "metadata": {
  "kernelspec": {
   "display_name": "Python 3",
   "language": "python",
   "name": "python3"
  },
  "language_info": {
   "codemirror_mode": {
    "name": "ipython",
    "version": 3
   },
   "file_extension": ".py",
   "mimetype": "text/x-python",
   "name": "python",
   "nbconvert_exporter": "python",
   "pygments_lexer": "ipython3",
   "version": "3.6.4"
  }
 },
 "nbformat": 4,
 "nbformat_minor": 2
}
